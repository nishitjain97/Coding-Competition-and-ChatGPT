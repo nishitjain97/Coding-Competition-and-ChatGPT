{
 "cells": [
  {
   "cell_type": "code",
   "execution_count": 3,
   "id": "2e4efbe3-e094-4165-a139-805dd845ab79",
   "metadata": {},
   "outputs": [],
   "source": [
    "import ast"
   ]
  },
  {
   "cell_type": "code",
   "execution_count": 4,
   "id": "c24a3689-f7ce-4c57-83cd-8b1ce5534b84",
   "metadata": {},
   "outputs": [],
   "source": [
    "with open(\"../test/20231114_160059/10/gpt_code.py\") as f:\n",
    "    python_code = ''.join(f.readlines())"
   ]
  },
  {
   "cell_type": "code",
   "execution_count": 6,
   "id": "dcf7e73a-6948-4458-93db-2c4745d1f339",
   "metadata": {},
   "outputs": [],
   "source": [
    "tree = ast.parse(python_code)"
   ]
  },
  {
   "cell_type": "code",
   "execution_count": 9,
   "id": "eff1ea1e-b9b1-42e4-a58b-78d486809c96",
   "metadata": {
    "scrolled": true
   },
   "outputs": [
    {
     "data": {
      "text/plain": [
       "\"Module(body=[FunctionDef(name='solve_queries', args=arguments(posonlyargs=[], args=[arg(arg='q'), arg(arg='queries')], kwonlyargs=[], kw_defaults=[], defaults=[]), body=[Assign(targets=[Name(id='results', ctx=Store())], value=List(elts=[], ctx=Load())), For(target=Name(id='query', ctx=Store()), iter=Name(id='queries', ctx=Load()), body=[Assign(targets=[Tuple(elts=[Name(id='l', ctx=Store()), Name(id='r', ctx=Store()), Name(id='d', ctx=Store())], ctx=Store())], value=Name(id='query', ctx=Load())), If(test=Compare(left=Name(id='d', ctx=Load()), ops=[Lt()], comparators=[Name(id='l', ctx=Load())]), body=[Expr(value=Call(func=Attribute(value=Name(id='results', ctx=Load()), attr='append', ctx=Load()), args=[Name(id='d', ctx=Load())], keywords=[]))], orelse=[Expr(value=Call(func=Attribute(value=Name(id='results', ctx=Load()), attr='append', ctx=Load()), args=[BinOp(left=BinOp(left=BinOp(left=Name(id='r', ctx=Load()), op=FloorDiv(), right=Name(id='d', ctx=Load())), op=Add(), right=Constant(value=1)), op=Mult(), right=Name(id='d', ctx=Load()))], keywords=[]))])], orelse=[]), Return(value=Name(id='results', ctx=Load()))], decorator_list=[]), Assign(targets=[Name(id='q', ctx=Store())], value=Call(func=Name(id='int', ctx=Load()), args=[Call(func=Name(id='input', ctx=Load()), args=[], keywords=[])], keywords=[])), Assign(targets=[Name(id='queries', ctx=Store())], value=List(elts=[], ctx=Load())), For(target=Name(id='_', ctx=Store()), iter=Call(func=Name(id='range', ctx=Load()), args=[Name(id='q', ctx=Load())], keywords=[]), body=[Assign(targets=[Tuple(elts=[Name(id='l', ctx=Store()), Name(id='r', ctx=Store()), Name(id='d', ctx=Store())], ctx=Store())], value=Call(func=Name(id='map', ctx=Load()), args=[Name(id='int', ctx=Load()), Call(func=Attribute(value=Call(func=Name(id='input', ctx=Load()), args=[], keywords=[]), attr='split', ctx=Load()), args=[], keywords=[])], keywords=[])), Expr(value=Call(func=Attribute(value=Name(id='queries', ctx=Load()), attr='append', ctx=Load()), args=[Tuple(elts=[Name(id='l', ctx=Load()), Name(id='r', ctx=Load()), Name(id='d', ctx=Load())], ctx=Load())], keywords=[]))], orelse=[]), Assign(targets=[Name(id='results', ctx=Store())], value=Call(func=Name(id='solve_queries', ctx=Load()), args=[Name(id='q', ctx=Load()), Name(id='queries', ctx=Load())], keywords=[])), For(target=Name(id='result', ctx=Store()), iter=Name(id='results', ctx=Load()), body=[Expr(value=Call(func=Name(id='print', ctx=Load()), args=[Name(id='result', ctx=Load())], keywords=[]))], orelse=[])], type_ignores=[])\""
      ]
     },
     "execution_count": 9,
     "metadata": {},
     "output_type": "execute_result"
    }
   ],
   "source": [
    "ast.dump(tree)"
   ]
  },
  {
   "cell_type": "code",
   "execution_count": null,
   "id": "9cc238ba-6f06-42bc-a717-7f703ec0abae",
   "metadata": {},
   "outputs": [],
   "source": []
  }
 ],
 "metadata": {
  "kernelspec": {
   "display_name": "Python 3 (ipykernel)",
   "language": "python",
   "name": "python3"
  },
  "language_info": {
   "codemirror_mode": {
    "name": "ipython",
    "version": 3
   },
   "file_extension": ".py",
   "mimetype": "text/x-python",
   "name": "python",
   "nbconvert_exporter": "python",
   "pygments_lexer": "ipython3",
   "version": "3.9.7"
  }
 },
 "nbformat": 4,
 "nbformat_minor": 5
}
