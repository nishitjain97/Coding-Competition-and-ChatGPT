{
 "cells": [
  {
   "cell_type": "code",
   "execution_count": 55,
   "id": "21cac95c",
   "metadata": {},
   "outputs": [],
   "source": [
    "from bs4 import BeautifulSoup\n",
    "import requests\n",
    "import pandas as pd"
   ]
  },
  {
   "cell_type": "code",
   "execution_count": 2,
   "id": "d6d34d2f",
   "metadata": {},
   "outputs": [],
   "source": [
    "URL = \"https://docs.python.org/3/library/exceptions.html\"\n",
    "r = requests.get(URL)"
   ]
  },
  {
   "cell_type": "code",
   "execution_count": 5,
   "id": "9b6ba43e",
   "metadata": {},
   "outputs": [],
   "source": [
    "soup = BeautifulSoup(r.content, 'html5lib') # If this line causes an error, run 'pip install html5lib' or install html5lib "
   ]
  },
  {
   "cell_type": "code",
   "execution_count": 27,
   "id": "03bad3ef",
   "metadata": {},
   "outputs": [],
   "source": [
    "table = soup.find_all('dl', attrs = {'class':'py exception'})"
   ]
  },
  {
   "cell_type": "code",
   "execution_count": 65,
   "id": "44330886",
   "metadata": {},
   "outputs": [],
   "source": [
    "df_content = {\n",
    "    'Name': [],\n",
    "    'Description': []\n",
    "}\n",
    "\n",
    "for row in table:\n",
    "    name = row.find('dt', attrs={'class': 'sig sig-object py'}).text.strip().replace('¶', '')\n",
    "    \n",
    "    try:\n",
    "        description = ' '.join(row.find_all('p')[0].text.replace('\\n', ' ').split()).strip()\n",
    "    except:\n",
    "        continue\n",
    "    \n",
    "    df_content['Name'].append(name)\n",
    "    df_content['Description'].append(description)"
   ]
  },
  {
   "cell_type": "code",
   "execution_count": 66,
   "id": "1720e2a1",
   "metadata": {},
   "outputs": [],
   "source": [
    "exception_df = pd.DataFrame(df_content)"
   ]
  },
  {
   "cell_type": "code",
   "execution_count": 67,
   "id": "d723a508",
   "metadata": {},
   "outputs": [],
   "source": [
    "exception_df.to_csv(\"../exceptions_doc.csv\", index=False)"
   ]
  },
  {
   "cell_type": "code",
   "execution_count": null,
   "id": "7003d70e",
   "metadata": {},
   "outputs": [],
   "source": []
  }
 ],
 "metadata": {
  "kernelspec": {
   "display_name": "Python 3 (ipykernel)",
   "language": "python",
   "name": "python3"
  },
  "language_info": {
   "codemirror_mode": {
    "name": "ipython",
    "version": 3
   },
   "file_extension": ".py",
   "mimetype": "text/x-python",
   "name": "python",
   "nbconvert_exporter": "python",
   "pygments_lexer": "ipython3",
   "version": "3.9.7"
  }
 },
 "nbformat": 4,
 "nbformat_minor": 5
}
